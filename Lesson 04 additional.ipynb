{
 "cells": [
  {
   "cell_type": "code",
   "execution_count": 4,
   "metadata": {},
   "outputs": [],
   "source": [
    "import warnings\n",
    "warnings.simplefilter('ignore')\n",
    "\n",
    "import numpy as np\n",
    "import pandas as pd\n",
    "from matplotlib import pyplot as plt\n",
    "\n",
    "%matplotlib inline\n",
    "%config InlineBackend.figure_format = 'svg' "
   ]
  },
  {
   "cell_type": "markdown",
   "metadata": {},
   "source": [
    "### **Задание на повторение материала\n",
    "#### 1. Создать одномерный массив Numpy под названием a из 12 последовательных целых чисел чисел от 12 до 24 невключительно"
   ]
  },
  {
   "cell_type": "code",
   "execution_count": 27,
   "metadata": {},
   "outputs": [
    {
     "data": {
      "text/plain": [
       "array([12, 13, 14, 15, 16, 17, 18, 19, 20, 21, 22, 23])"
      ]
     },
     "execution_count": 27,
     "metadata": {},
     "output_type": "execute_result"
    }
   ],
   "source": [
    "a = np.linspace(12, 23, 12, dtype=int)\n",
    "a"
   ]
  },
  {
   "cell_type": "markdown",
   "metadata": {},
   "source": [
    "#### 2. Создать 5 двумерных массивов разной формы из массива a. Не использовать в аргументах метода reshape число -1."
   ]
  },
  {
   "cell_type": "code",
   "execution_count": 28,
   "metadata": {},
   "outputs": [],
   "source": [
    "a1 = a.reshape(2, 6)\n",
    "a2 = a.reshape(3, 4)\n",
    "a3 = a.reshape(6, 2)\n",
    "a4 = a.reshape(1, 12)\n",
    "a5 = a.reshape(4, 3)"
   ]
  },
  {
   "cell_type": "markdown",
   "metadata": {},
   "source": [
    "#### 3. Создать 5 двумерных массивов разной формы из массива a. Использовать в аргументах метода reshape число -1 (в трех примерах - для обозначения числа столбцов, в двух - для строк)."
   ]
  },
  {
   "cell_type": "code",
   "execution_count": 29,
   "metadata": {},
   "outputs": [],
   "source": [
    "a1 = a.reshape(2, -1)\n",
    "a2 = a.reshape(3, -1)\n",
    "a3 = a.reshape(6, -1)\n",
    "a4 = a.reshape(1, -1)\n",
    "a5 = a.reshape(4, -1)"
   ]
  },
  {
   "cell_type": "markdown",
   "metadata": {},
   "source": [
    "#### 4. Можно ли массив Numpy, состоящий из одного столбца и 12 строк, назвать одномерным?"
   ]
  },
  {
   "cell_type": "code",
   "execution_count": 34,
   "metadata": {},
   "outputs": [
    {
     "name": "stdout",
     "output_type": "stream",
     "text": [
      "[[20]\n",
      " [18]\n",
      " [16]\n",
      " [14]\n",
      " [12]\n",
      " [10]\n",
      " [ 8]\n",
      " [ 6]\n",
      " [ 4]\n",
      " [ 2]]\n",
      "(10, 1)\n",
      "Ответ: нет, нельзя\n"
     ]
    }
   ],
   "source": [
    "b = a.reshape(-1, 1)\n",
    "print(b)\n",
    "print(b.shape)\n",
    "print(\"Ответ: нет, нельзя\")"
   ]
  },
  {
   "cell_type": "markdown",
   "metadata": {},
   "source": [
    "#### 5. Создать массив из 3 строк и 4 столбцов, состоящий из случайных чисел с плавающей запятой из нормального распределения со средним, равным 0 и среднеквадратичным отклонением, равным 1.0. Получить из этого массива одномерный массив с таким же атрибутом size, как и исходный массив. "
   ]
  },
  {
   "cell_type": "code",
   "execution_count": null,
   "metadata": {},
   "outputs": [],
   "source": [
    "np.random.seed(5)\n",
    "x = np.random.randn(30000, 40000)\n",
    "print(x)\n",
    "print('x.std: ', x.std())\n",
    "print('x.mean', x.mean())"
   ]
  },
  {
   "cell_type": "markdown",
   "metadata": {},
   "source": [
    "#### !!!!!не получается:\n",
    "\"..со средним, равным 0 и среднеквадратичным отклонением, равным 1.0\""
   ]
  },
  {
   "cell_type": "code",
   "execution_count": 83,
   "metadata": {},
   "outputs": [
    {
     "data": {
      "text/html": [
       "<div>\n",
       "<style scoped>\n",
       "    .dataframe tbody tr th:only-of-type {\n",
       "        vertical-align: middle;\n",
       "    }\n",
       "\n",
       "    .dataframe tbody tr th {\n",
       "        vertical-align: top;\n",
       "    }\n",
       "\n",
       "    .dataframe thead th {\n",
       "        text-align: right;\n",
       "    }\n",
       "</style>\n",
       "<table border=\"1\" class=\"dataframe\">\n",
       "  <thead>\n",
       "    <tr style=\"text-align: right;\">\n",
       "      <th></th>\n",
       "      <th>0</th>\n",
       "      <th>1</th>\n",
       "      <th>2</th>\n",
       "      <th>3</th>\n",
       "    </tr>\n",
       "  </thead>\n",
       "  <tbody>\n",
       "    <tr>\n",
       "      <td>count</td>\n",
       "      <td>3.000000</td>\n",
       "      <td>3.000000</td>\n",
       "      <td>3.000000</td>\n",
       "      <td>3.000000</td>\n",
       "    </tr>\n",
       "    <tr>\n",
       "      <td>mean</td>\n",
       "      <td>6.068897</td>\n",
       "      <td>5.444546</td>\n",
       "      <td>5.777761</td>\n",
       "      <td>8.698707</td>\n",
       "    </tr>\n",
       "    <tr>\n",
       "      <td>std</td>\n",
       "      <td>3.044276</td>\n",
       "      <td>1.894399</td>\n",
       "      <td>3.239757</td>\n",
       "      <td>0.454982</td>\n",
       "    </tr>\n",
       "    <tr>\n",
       "      <td>min</td>\n",
       "      <td>3.597150</td>\n",
       "      <td>4.058082</td>\n",
       "      <td>2.362729</td>\n",
       "      <td>8.413134</td>\n",
       "    </tr>\n",
       "    <tr>\n",
       "      <td>25%</td>\n",
       "      <td>4.368664</td>\n",
       "      <td>4.365292</td>\n",
       "      <td>4.262717</td>\n",
       "      <td>8.436365</td>\n",
       "    </tr>\n",
       "    <tr>\n",
       "      <td>50%</td>\n",
       "      <td>5.140178</td>\n",
       "      <td>4.672502</td>\n",
       "      <td>6.162704</td>\n",
       "      <td>8.459596</td>\n",
       "    </tr>\n",
       "    <tr>\n",
       "      <td>75%</td>\n",
       "      <td>7.304771</td>\n",
       "      <td>6.137778</td>\n",
       "      <td>7.485276</td>\n",
       "      <td>8.841493</td>\n",
       "    </tr>\n",
       "    <tr>\n",
       "      <td>max</td>\n",
       "      <td>9.469365</td>\n",
       "      <td>7.603055</td>\n",
       "      <td>8.807849</td>\n",
       "      <td>9.223390</td>\n",
       "    </tr>\n",
       "  </tbody>\n",
       "</table>\n",
       "</div>"
      ],
      "text/plain": [
       "              0         1         2         3\n",
       "count  3.000000  3.000000  3.000000  3.000000\n",
       "mean   6.068897  5.444546  5.777761  8.698707\n",
       "std    3.044276  1.894399  3.239757  0.454982\n",
       "min    3.597150  4.058082  2.362729  8.413134\n",
       "25%    4.368664  4.365292  4.262717  8.436365\n",
       "50%    5.140178  4.672502  6.162704  8.459596\n",
       "75%    7.304771  6.137778  7.485276  8.841493\n",
       "max    9.469365  7.603055  8.807849  9.223390"
      ]
     },
     "execution_count": 83,
     "metadata": {},
     "output_type": "execute_result"
    }
   ],
   "source": [
    "barr3x4.describe()"
   ]
  },
  {
   "cell_type": "code",
   "execution_count": 80,
   "metadata": {},
   "outputs": [
    {
     "data": {
      "text/html": [
       "<div>\n",
       "<style scoped>\n",
       "    .dataframe tbody tr th:only-of-type {\n",
       "        vertical-align: middle;\n",
       "    }\n",
       "\n",
       "    .dataframe tbody tr th {\n",
       "        vertical-align: top;\n",
       "    }\n",
       "\n",
       "    .dataframe thead th {\n",
       "        text-align: right;\n",
       "    }\n",
       "</style>\n",
       "<table border=\"1\" class=\"dataframe\">\n",
       "  <thead>\n",
       "    <tr style=\"text-align: right;\">\n",
       "      <th></th>\n",
       "      <th>0</th>\n",
       "      <th>1</th>\n",
       "      <th>2</th>\n",
       "      <th>3</th>\n",
       "    </tr>\n",
       "  </thead>\n",
       "  <tbody>\n",
       "    <tr>\n",
       "      <td>count</td>\n",
       "      <td>3.000000</td>\n",
       "      <td>3.000000</td>\n",
       "      <td>3.000000</td>\n",
       "      <td>3.000000</td>\n",
       "    </tr>\n",
       "    <tr>\n",
       "      <td>mean</td>\n",
       "      <td>0.061112</td>\n",
       "      <td>-0.510228</td>\n",
       "      <td>0.148301</td>\n",
       "      <td>-0.740737</td>\n",
       "    </tr>\n",
       "    <tr>\n",
       "      <td>std</td>\n",
       "      <td>0.711012</td>\n",
       "      <td>0.815779</td>\n",
       "      <td>0.971269</td>\n",
       "      <td>0.886127</td>\n",
       "    </tr>\n",
       "    <tr>\n",
       "      <td>min</td>\n",
       "      <td>-0.573440</td>\n",
       "      <td>-1.438510</td>\n",
       "      <td>-0.956205</td>\n",
       "      <td>-1.381262</td>\n",
       "    </tr>\n",
       "    <tr>\n",
       "      <td>25%</td>\n",
       "      <td>-0.323106</td>\n",
       "      <td>-0.811608</td>\n",
       "      <td>-0.212105</td>\n",
       "      <td>-1.246382</td>\n",
       "    </tr>\n",
       "    <tr>\n",
       "      <td>50%</td>\n",
       "      <td>-0.072772</td>\n",
       "      <td>-0.184707</td>\n",
       "      <td>0.531995</td>\n",
       "      <td>-1.111501</td>\n",
       "    </tr>\n",
       "    <tr>\n",
       "      <td>75%</td>\n",
       "      <td>0.378388</td>\n",
       "      <td>-0.046087</td>\n",
       "      <td>0.700554</td>\n",
       "      <td>-0.420475</td>\n",
       "    </tr>\n",
       "    <tr>\n",
       "      <td>max</td>\n",
       "      <td>0.829548</td>\n",
       "      <td>0.092533</td>\n",
       "      <td>0.869113</td>\n",
       "      <td>0.270551</td>\n",
       "    </tr>\n",
       "  </tbody>\n",
       "</table>\n",
       "</div>"
      ],
      "text/plain": [
       "              0         1         2         3\n",
       "count  3.000000  3.000000  3.000000  3.000000\n",
       "mean   0.061112 -0.510228  0.148301 -0.740737\n",
       "std    0.711012  0.815779  0.971269  0.886127\n",
       "min   -0.573440 -1.438510 -0.956205 -1.381262\n",
       "25%   -0.323106 -0.811608 -0.212105 -1.246382\n",
       "50%   -0.072772 -0.184707  0.531995 -1.111501\n",
       "75%    0.378388 -0.046087  0.700554 -0.420475\n",
       "max    0.829548  0.092533  0.869113  0.270551"
      ]
     },
     "execution_count": 80,
     "metadata": {},
     "output_type": "execute_result"
    }
   ],
   "source": [
    "barr3x4 = pd.DataFrame(np.random.randn(3, 4))\n",
    "barr3x4.describe()\n",
    "# не получается: \"..со средним, равным 0 и среднеквадратичным отклонением, равным 1.0\""
   ]
  },
  {
   "cell_type": "markdown",
   "metadata": {},
   "source": [
    "#### 6. Создать массив a, состоящий из целых чисел, убывающих от 20 до 0 невключительно с интервалом 2."
   ]
  },
  {
   "cell_type": "code",
   "execution_count": 32,
   "metadata": {},
   "outputs": [
    {
     "data": {
      "text/plain": [
       "10"
      ]
     },
     "execution_count": 32,
     "metadata": {},
     "output_type": "execute_result"
    }
   ],
   "source": [
    "a = np.arange(20, 0, -2)\n",
    "a.size"
   ]
  },
  {
   "cell_type": "markdown",
   "metadata": {},
   "source": [
    "#### 7. Создать массив b, состоящий из 1 строки и 10 столбцов: целых чисел, убывающих от 20 до 1 невключительно с интервалом 2. В чем разница между массивами a и b?"
   ]
  },
  {
   "cell_type": "code",
   "execution_count": 24,
   "metadata": {},
   "outputs": [],
   "source": [
    "b = a.reshape(-1, 1)"
   ]
  },
  {
   "cell_type": "code",
   "execution_count": 26,
   "metadata": {},
   "outputs": [
    {
     "name": "stdout",
     "output_type": "stream",
     "text": [
      "a.shape = (12,)\t\t\t\tb.shape = (12, 1)\n",
      "a.size = 12\t\t\t\tb.size = 12\n",
      "a.type = <class 'numpy.ndarray'>\tb.type = <class 'numpy.ndarray'>\n",
      "a == b ? [[ True False False False False False False False False False False False]\n",
      " [False  True False False False False False False False False False False]\n",
      " [False False  True False False False False False False False False False]\n",
      " [False False False  True False False False False False False False False]\n",
      " [False False False False  True False False False False False False False]\n",
      " [False False False False False  True False False False False False False]\n",
      " [False False False False False False  True False False False False False]\n",
      " [False False False False False False False  True False False False False]\n",
      " [False False False False False False False False  True False False False]\n",
      " [False False False False False False False False False  True False False]\n",
      " [False False False False False False False False False False  True False]\n",
      " [False False False False False False False False False False False  True]]\n"
     ]
    }
   ],
   "source": [
    "print('a.shape = %s\\t\\t\\t\\tb.shape = %s' % (a.shape, b.shape))\n",
    "print('a.size = %d\\t\\t\\t\\tb.size = %d' % (a.size, b.size))\n",
    "print('a.type = %s\\tb.type = %s' % (type(a), type(b)))\n",
    "print('a == b ? %s' % (a==b))\n",
    "# массивы одинаковы, странно..."
   ]
  },
  {
   "cell_type": "markdown",
   "metadata": {},
   "source": [
    "#### 8. Вертикально соединить массивы a и b. a - двумерный массив из нулей, число строк которого больше 1 и на 1 меньше, чем число строк двумерного массива b, состоящего из единиц. Итоговый массив v должен иметь атрибут size, равный 10."
   ]
  },
  {
   "cell_type": "markdown",
   "metadata": {},
   "source": [
    "##### дальше не успел\n",
    "\n",
    "9. Создать одномерный массив а, состоящий из последовательности целых чисел от 0 до 12. Поменять форму этого массива, чтобы получилась матрица A (двумерный массив Numpy), состоящая из 4 строк и 3 столбцов. Получить матрицу At путем транспонирования матрицы A. Получить матрицу B, умножив матрицу A на матрицу At с помощью матричного умножения. Какой размер имеет матрица B? Получится ли вычислить обратную матрицу для матрицы B и почему?\n",
    "\n",
    "10. Инициализируйте генератор случайных числе с помощью объекта seed, равного 42.\n",
    "\n",
    "11. Создайте одномерный массив c, составленный из последовательности 16-ти случайных равномерно распределенных целых чисел от 0 до 16 невключительно. \n",
    "\n",
    "12. Поменяйте его форму так, чтобы получилась квадратная матрица C. Получите матрицу D, поэлементно прибавив матрицу B из предыдущего вопроса к матрице C, умноженной на 10. Вычислите определитель, ранг и обратную матрицу D_inv для D.\n",
    "\n",
    "13. Приравняйте к нулю отрицательные числа в матрице D_inv, а положительные - к единице. Убедитесь, что в матрице D_inv остались только нули и единицы. С помощью функции numpy.where, используя матрицу D_inv в качестве маски, а матрицы B и C - в качестве источников данных, получите матрицу E размером 4x4.  Элементы матрицы E, для которых соответствующий элемент матрицы D_inv равен 1, должны быть равны соответствующему элементу матрицы B, а элементы матрицы E, для которых соответствующий элемент матрицы D_inv равен 0, должны быть равны соответствующему элементу матрицы C."
   ]
  },
  {
   "cell_type": "code",
   "execution_count": null,
   "metadata": {},
   "outputs": [],
   "source": []
  }
 ],
 "metadata": {
  "kernelspec": {
   "display_name": "Python 3",
   "language": "python",
   "name": "python3"
  },
  "language_info": {
   "codemirror_mode": {
    "name": "ipython",
    "version": 3
   },
   "file_extension": ".py",
   "mimetype": "text/x-python",
   "name": "python",
   "nbconvert_exporter": "python",
   "pygments_lexer": "ipython3",
   "version": "3.7.4"
  }
 },
 "nbformat": 4,
 "nbformat_minor": 2
}
